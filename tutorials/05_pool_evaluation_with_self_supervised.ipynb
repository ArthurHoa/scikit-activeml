{
 "cells": [
  {
   "cell_type": "markdown",
   "id": "33f39229508719ea",
   "metadata": {
    "collapsed": false,
    "jupyter": {
     "outputs_hidden": false
    }
   },
   "source": [
    "## Pool-based Active Learning - Evaluation Study"
   ]
  },
  {
   "cell_type": "markdown",
   "id": "fa4583e83ede8da9",
   "metadata": {
    "collapsed": false,
    "jupyter": {
     "outputs_hidden": false
    }
   },
   "source": [
    "The main purpose of this tutorial is to show how a realistic comparision study can be realized using 'scikit-activeml'. In this tutorial, we use a self-supervised learning model DINOv2 from [1] to creat a (to be continund)"
   ]
  },
  {
   "cell_type": "code",
   "execution_count": 1,
   "id": "7b260866-c6ad-4f9e-84b1-ca621c04caea",
   "metadata": {},
   "outputs": [],
   "source": [
    "#!pip install -U matplotlib\n",
    "#!pip install -U scikit-learn\n",
    "#!pip install iteration_utilities"
   ]
  },
  {
   "cell_type": "code",
   "execution_count": 2,
   "id": "9c7783b6-92f9-4402-a38d-69ee99b7a722",
   "metadata": {},
   "outputs": [
    {
     "name": "stdout",
     "output_type": "stream",
     "text": [
      "['/mnt/stud/home/jcheng/scikit-activeml/tutorials', '/mnt/stud/home/jcheng/miniconda3/envs/scikit-activeml/lib/python310.zip', '/mnt/stud/home/jcheng/miniconda3/envs/scikit-activeml/lib/python3.10', '/mnt/stud/home/jcheng/miniconda3/envs/scikit-activeml/lib/python3.10/lib-dynload', '', '/mnt/stud/home/jcheng/miniconda3/envs/scikit-activeml/lib/python3.10/site-packages', '/mnt/stud/home/jcheng/scikit-activeml/']\n"
     ]
    }
   ],
   "source": [
    "import sys\n",
    "sys.path.append(\"/mnt/stud/home/jcheng/scikit-activeml/\")\n",
    "print(sys.path)"
   ]
  },
  {
   "cell_type": "code",
   "execution_count": 3,
   "id": "3a4b6dbb9143a5eb",
   "metadata": {
    "ExecuteTime": {
     "end_time": "2024-01-17T19:28:22.413502Z",
     "start_time": "2024-01-17T19:28:18.091576Z"
    },
    "collapsed": false,
    "jupyter": {
     "outputs_hidden": false
    }
   },
   "outputs": [],
   "source": [
    "import numpy as np\n",
    "import matplotlib as mlp\n",
    "import matplotlib.pyplot as plt\n",
    "\n",
    "from sklearn.linear_model import LogisticRegression\n",
    "\n",
    "from skactiveml.classifier import SklearnClassifier\n",
    "from skactiveml.pool import UncertaintySampling, RandomSampling, DiscriminativeAL, CoreSet, TypiClust, Badge\n",
    "from skactiveml.utils import call_func, MISSING_LABEL\n",
    "\n",
    "import warnings\n",
    "mlp.rcParams[\"figure.facecolor\"] = \"white\"\n",
    "warnings.filterwarnings(\"ignore\")"
   ]
  },
  {
   "cell_type": "markdown",
   "id": "3ac32ea901e08c01",
   "metadata": {
    "collapsed": false,
    "jupyter": {
     "outputs_hidden": false
    }
   },
   "source": [
    "## Data Set Generation"
   ]
  },
  {
   "cell_type": "markdown",
   "id": "7a4e3bf805669b1c",
   "metadata": {
    "collapsed": false,
    "jupyter": {
     "outputs_hidden": false
    }
   },
   "source": [
    "Introduction about DINOv2 to get embedding dataset. (To be continuend)"
   ]
  },
  {
   "cell_type": "code",
   "execution_count": 4,
   "id": "1aa2229b6d187a",
   "metadata": {
    "collapsed": false,
    "jupyter": {
     "outputs_hidden": false
    }
   },
   "outputs": [],
   "source": [
    "#!pip3 install torch torchvision torchaudio\n",
    "#!pip install tqdm"
   ]
  },
  {
   "cell_type": "code",
   "execution_count": 5,
   "id": "e081644f354e3327",
   "metadata": {
    "ExecuteTime": {
     "end_time": "2024-01-17T13:25:25.704222Z",
     "start_time": "2024-01-17T13:25:25.699065Z"
    },
    "collapsed": false,
    "jupyter": {
     "outputs_hidden": false
    }
   },
   "outputs": [],
   "source": [
    "import torch\n",
    "import torchvision.datasets as datasets\n",
    "import torchvision.transforms as transforms\n",
    "from tqdm import tqdm"
   ]
  },
  {
   "cell_type": "code",
   "execution_count": 6,
   "id": "3b27a5c395f5897e",
   "metadata": {
    "ExecuteTime": {
     "end_time": "2024-01-17T13:23:20.397158Z",
     "start_time": "2024-01-17T13:23:20.392522Z"
    },
    "collapsed": false,
    "jupyter": {
     "outputs_hidden": false
    }
   },
   "outputs": [],
   "source": [
    "transforms = transforms.Compose(\n",
    "        [transforms.Resize(256),\n",
    "         transforms.CenterCrop(224),\n",
    "         transforms.ToTensor(),\n",
    "         transforms.Normalize((0.485, 0.456, 0.406), (0.229, 0.224, 0.225))]\n",
    "    )\n",
    "\n",
    "batch_size = 4"
   ]
  },
  {
   "cell_type": "markdown",
   "id": "7668a073b61085ea",
   "metadata": {
    "collapsed": false,
    "jupyter": {
     "outputs_hidden": false
    }
   },
   "source": [
    "install the corresponding data_set (CIFAR10)"
   ]
  },
  {
   "cell_type": "code",
   "execution_count": 7,
   "id": "96dce5d3226afe25",
   "metadata": {
    "ExecuteTime": {
     "end_time": "2024-01-17T13:36:03.453935Z",
     "start_time": "2024-01-17T13:35:21.458820Z"
    },
    "collapsed": false,
    "jupyter": {
     "outputs_hidden": false
    }
   },
   "outputs": [
    {
     "name": "stdout",
     "output_type": "stream",
     "text": [
      "Files already downloaded and verified\n",
      "Files already downloaded and verified\n"
     ]
    }
   ],
   "source": [
    "cifar10_trainset = datasets.CIFAR10(root=\"./data\", train=True, download=True,transform=transforms)\n",
    "cifar10_trainloader = torch.utils.data.DataLoader(cifar10_trainset, batch_size=batch_size, shuffle=True, num_workers=2)\n",
    "\n",
    "cifar10_testset = datasets.CIFAR10(root=\"./data\", train=False, download=True, transform=transforms)\n",
    "cifar10_testloader = torch.utils.data.DataLoader(cifar10_testset, batch_size=batch_size, shuffle=False, num_workers=2)\n",
    "\n",
    "cifar10_classes = ['plane', 'car', 'bird', 'cat', \n",
    "                   'deer', 'dog', 'frog', 'horse', 'ship', 'truck']"
   ]
  },
  {
   "cell_type": "markdown",
   "id": "24fb81762ce97731",
   "metadata": {
    "collapsed": false,
    "jupyter": {
     "outputs_hidden": false
    }
   },
   "source": [
    "Compute the Embedding for Images with DINOv2"
   ]
  },
  {
   "cell_type": "code",
   "execution_count": 8,
   "id": "387db871-7e26-46d0-9722-45c71ed40014",
   "metadata": {},
   "outputs": [
    {
     "name": "stderr",
     "output_type": "stream",
     "text": [
      "Using cache found in /mnt/stud/home/jcheng/.cache/torch/hub/facebookresearch_dinov2_main\n"
     ]
    }
   ],
   "source": [
    "dinov2_vits14 = torch.hub.load(\"facebookresearch/dinov2\", \"dinov2_vits14\")"
   ]
  },
  {
   "cell_type": "code",
   "execution_count": 9,
   "id": "aae679eb72b5f8",
   "metadata": {
    "ExecuteTime": {
     "end_time": "2024-01-17T13:30:40.012892Z",
     "start_time": "2024-01-17T13:30:39.531953Z"
    },
    "collapsed": false,
    "jupyter": {
     "outputs_hidden": false
    }
   },
   "outputs": [],
   "source": [
    "cifar10_train_embedding_list = []\n",
    "cifar10_train_label_list = []\n",
    "cifar10_test_embedding_list = []\n",
    "cifar10_test_label_list = []"
   ]
  },
  {
   "cell_type": "code",
   "execution_count": 12,
   "id": "f08f07daf4187c8d",
   "metadata": {
    "collapsed": false,
    "jupyter": {
     "outputs_hidden": false
    }
   },
   "outputs": [
    {
     "name": "stderr",
     "output_type": "stream",
     "text": [
      "Train: 100%|██████████| 12500/12500 [29:26<00:00,  7.07it/s] \n",
      "Train: 100%|██████████| 2500/2500 [05:58<00:00,  6.97it/s]\n"
     ]
    }
   ],
   "source": [
    "with torch.no_grad():\n",
    "    for i, data in tqdm(enumerate(cifar10_trainloader), total=len(cifar10_trainloader), desc=\"Train\"):\n",
    "        image, label = data\n",
    "\n",
    "        embeddings = dinov2_vits14(image)\n",
    "        cifar10_train_embedding_list.append(embeddings)\n",
    "        cifar10_train_label_list.append(label)\n",
    "    \n",
    "    for i, data in tqdm(enumerate(cifar10_testloader), total=len(cifar10_testloader), desc=\"Test\"):\n",
    "        image, label = data\n",
    "\n",
    "        embeddings = dinov2_vits14(image)\n",
    "        cifar10_test_embedding_list.append(embeddings)\n",
    "        cifar10_test_label_list.append(label)\n",
    "    \n",
    "    cifar10_X_Train = torch.cat(cifar10_train_embedding_list, dim=0).numpy()\n",
    "    cifar10_y_Train_true = torch.cat(cifar10_train_label_list, dim=0).numpy()\n",
    "    cifar10_X_Test = torch.cat(cifar10_test_embedding_list, dim=0).numpy()\n",
    "    cifar10_y_Test = torch.cat(cifar10_test_label_list, dim=0).numpy()\n",
    "    "
   ]
  },
  {
   "cell_type": "markdown",
   "id": "17b51dc5d70a96c7",
   "metadata": {
    "collapsed": false,
    "jupyter": {
     "outputs_hidden": false
    }
   },
   "source": [
    "Save the embedding feature in seperat file, creat a new folder with name 'embedding_data'"
   ]
  },
  {
   "cell_type": "code",
   "execution_count": 41,
   "id": "b3758806d7cb708d",
   "metadata": {
    "collapsed": false,
    "jupyter": {
     "outputs_hidden": false
    }
   },
   "outputs": [],
   "source": [
    "np.save('/mnt/stud/home/jcheng/scikit-activeml/tutorials/embedding_data/cifar10_dinov2_X_train.npy', cifar10_X_Train)\n",
    "np.save('/mnt/stud/home/jcheng/scikit-activeml/tutorials/embedding_data/cifar10_dinov2_y_train.npy', cifar10_y_Train_true)\n",
    "np.save('/mnt/stud/home/jcheng/scikit-activeml/tutorials/embedding_data/cifar10_dinov2_X_test.npy', cifar10_X_Test)\n",
    "np.save('/mnt/stud/home/jcheng/scikit-activeml/tutorials/embedding_data/cifar10_dinov2_y_test.npy', cifar10_y_Test)"
   ]
  },
  {
   "cell_type": "markdown",
   "id": "dc5515a3-9b8f-456b-9296-4ca68cda30b4",
   "metadata": {},
   "source": [
    "If you already complete these step before, please load your data here"
   ]
  },
  {
   "cell_type": "code",
   "execution_count": 36,
   "id": "a29bcd52-4750-4098-8b4a-395e3487bc2a",
   "metadata": {},
   "outputs": [],
   "source": [
    "cifar10_X_Train = np.load('/mnt/stud/home/jcheng/scikit-activeml/tutorials/embedding_data/cifar10_dinov2_X_train.npy')\n",
    "cifar10_y_Train_true = np.load('/mnt/stud/home/jcheng/scikit-activeml/tutorials/embedding_data/cifar10_dinov2_y_train.npy')\n",
    "cifar10_X_Test = np.load('/mnt/stud/home/jcheng/scikit-activeml/tutorials/embedding_data/cifar10_dinov2_X_test.npy')\n",
    "cifar10_y_Test = np.load('/mnt/stud/home/jcheng/scikit-activeml/tutorials/embedding_data/cifar10_dinov2_y_test.npy')"
   ]
  },
  {
   "cell_type": "markdown",
   "id": "cf4565232ae31432",
   "metadata": {
    "collapsed": false,
    "jupyter": {
     "outputs_hidden": false
    }
   },
   "source": [
    "## Random Seed Management"
   ]
  },
  {
   "cell_type": "code",
   "execution_count": 21,
   "id": "11e6ce648a9ab110",
   "metadata": {
    "ExecuteTime": {
     "end_time": "2024-01-17T19:28:35.438877Z",
     "start_time": "2024-01-17T19:28:35.420949Z"
    },
    "collapsed": false,
    "jupyter": {
     "outputs_hidden": false
    }
   },
   "outputs": [],
   "source": [
    "master_random_state = np.random.RandomState(0)\n",
    "\n",
    "def gen_seed(random_state:np.random.RandomState):\n",
    "    return random_state.randint(0, 2**31)\n",
    "\n",
    "def gen_random_state(random_state:np.random.RandomState):\n",
    "    return np.random.RandomState(gen_seed(random_state))"
   ]
  },
  {
   "cell_type": "markdown",
   "id": "24cc0c5019b852b5",
   "metadata": {
    "collapsed": false,
    "jupyter": {
     "outputs_hidden": false
    }
   },
   "source": [
    "## Classification Models and Query Strategies"
   ]
  },
  {
   "cell_type": "code",
   "execution_count": 25,
   "id": "47726a1cbac97d40",
   "metadata": {
    "ExecuteTime": {
     "end_time": "2024-01-17T16:22:54.457149Z",
     "start_time": "2024-01-17T16:22:54.453744Z"
    },
    "collapsed": false,
    "jupyter": {
     "outputs_hidden": false
    }
   },
   "outputs": [],
   "source": [
    "classifier_factory_functions = {\n",
    "    'LogisticRegression': lambda classes, random_state: SklearnClassifier(\n",
    "        LogisticRegression(),\n",
    "        classes=classes,\n",
    "        random_state=gen_seed(random_state)\n",
    "    )\n",
    "}"
   ]
  },
  {
   "cell_type": "code",
   "execution_count": 26,
   "id": "d356c3752b0a58a1",
   "metadata": {
    "ExecuteTime": {
     "end_time": "2024-01-17T16:23:51.265616Z",
     "start_time": "2024-01-17T16:23:51.249552Z"
    },
    "collapsed": false,
    "jupyter": {
     "outputs_hidden": false
    }
   },
   "outputs": [],
   "source": [
    "query_strategy_factory_functions = {\n",
    "    'RandomSampling': lambda random_state: RandomSampling(random_state=gen_seed(random_state)),\n",
    "    'UncertaintySampling': lambda random_state: UncertaintySampling(random_state=gen_seed(random_state)),\n",
    "    'DiscriminativeAL': lambda random_state: DiscriminativeAL(random_state=gen_seed(random_state)),\n",
    "    'CoreSet': lambda random_state: CoreSet(random_state=gen_seed(random_state)),\n",
    "    'TypiClust': lambda random_state: TypiClust(random_state=gen_seed(random_state)),\n",
    "    'Badge': lambda random_state: Badge(random_state=gen_seed(random_state))\n",
    "}"
   ]
  },
  {
   "cell_type": "code",
   "execution_count": 27,
   "id": "a53f0432f19e5d21",
   "metadata": {
    "ExecuteTime": {
     "end_time": "2024-01-17T16:24:13.152256Z",
     "start_time": "2024-01-17T16:24:13.142955Z"
    },
    "collapsed": false,
    "jupyter": {
     "outputs_hidden": false
    }
   },
   "outputs": [],
   "source": [
    "def create_classifier(name, classes, random_state):\n",
    "    return classifier_factory_functions[name](classes, random_state)\n",
    "\n",
    "def create_query_strategy(name, random_state):\n",
    "    return query_strategy_factory_functions[name](random_state)"
   ]
  },
  {
   "cell_type": "markdown",
   "id": "9023c37048ec8f54",
   "metadata": {
    "collapsed": false,
    "jupyter": {
     "outputs_hidden": false
    }
   },
   "source": [
    "## Experiment Parameters"
   ]
  },
  {
   "cell_type": "code",
   "execution_count": 45,
   "id": "e103670190e73a3f",
   "metadata": {
    "collapsed": false,
    "jupyter": {
     "outputs_hidden": false
    }
   },
   "outputs": [],
   "source": [
    "n_reps = 1\n",
    "n_training_dataset = len(cifar10_X_Train)\n",
    "#n_cycles = int(0.5 * n_training_dataset)\n",
    "n_cycles = 500\n",
    "classifier_names = classifier_factory_functions.keys()\n",
    "query_strategy_names = query_strategy_factory_functions.keys()"
   ]
  },
  {
   "cell_type": "markdown",
   "id": "66b8fff1b12211ed",
   "metadata": {
    "collapsed": false,
    "jupyter": {
     "outputs_hidden": false
    }
   },
   "source": [
    "## Experiment Loop"
   ]
  },
  {
   "cell_type": "code",
   "execution_count": null,
   "id": "982ac9424cda2f15",
   "metadata": {
    "collapsed": false,
    "jupyter": {
     "outputs_hidden": false
    }
   },
   "outputs": [
    {
     "name": "stderr",
     "output_type": "stream",
     "text": [
      "Repeat 1 in LogisticRegression with RandomSampling: 100%|██████████| 500/500 [01:55<00:00,  4.34it/s]\n",
      "Repeat 1 in LogisticRegression with UncertaintySampling: 100%|██████████| 500/500 [04:21<00:00,  1.91it/s]\n",
      "Repeat 1 in LogisticRegression with DiscriminativeAL:  23%|██▎       | 117/500 [05:27<18:51,  2.95s/it]"
     ]
    }
   ],
   "source": [
    "results = {}\n",
    "\n",
    "for clf_name in classifier_names:\n",
    "    for qs_name in query_strategy_names:\n",
    "        accuracies = np.full((n_reps, n_cycles), np.nan)\n",
    "        for i_rep in range(n_reps):\n",
    "            cifar10_y_Train = np.full(shape=cifar10_y_Train_true.shape, fill_value=MISSING_LABEL)\n",
    "            \n",
    "            clf = create_classifier(clf_name, classes=np.arange(len(cifar10_classes)), random_state=gen_random_state(master_random_state))\n",
    "            qs = create_query_strategy(qs_name, random_state=gen_random_state(master_random_state))\n",
    "            clf.fit(cifar10_X_Train, cifar10_y_Train)\n",
    "            \n",
    "            for c in tqdm(range(n_cycles), desc=f'Repeat {i_rep + 1} in {clf_name} with {qs_name}'):\n",
    "                query_idx = call_func(qs.query, X=cifar10_X_Train, y=cifar10_y_Train, batch_size=1, clf=clf, discriminator=clf)\n",
    "                cifar10_y_Train[query_idx] = cifar10_y_Train_true[query_idx]\n",
    "                clf.fit(cifar10_X_Train, cifar10_y_Train)\n",
    "                accuracies[i_rep, c] = clf.score(cifar10_X_Test, cifar10_y_Test)\n",
    "        \n",
    "        results[(clf_name, qs_name)] = accuracies"
   ]
  },
  {
   "cell_type": "markdown",
   "id": "998e52cb1a2107b",
   "metadata": {
    "collapsed": false,
    "jupyter": {
     "outputs_hidden": false
    }
   },
   "source": [
    "## Resulting Plotting"
   ]
  },
  {
   "cell_type": "code",
   "execution_count": null,
   "id": "7ed6ebe52431f489",
   "metadata": {
    "collapsed": false,
    "jupyter": {
     "outputs_hidden": false
    }
   },
   "outputs": [],
   "source": [
    "for clf_name in classifier_names:\n",
    "    for qs_name in query_strategy_names:\n",
    "        key = (clf_name, qs_name)\n",
    "        result = results[key]\n",
    "        reshaped_result = result.reshape((-1, n_cycles))\n",
    "        errorbar_mean = np.mean(reshaped_result, axis=0)\n",
    "        errorbar_std = np.std(reshaped_result, axis=0)\n",
    "        plt.errorbar(np.arange(n_cycles), errorbar_mean, errorbar_std, label=f\"({np.mean(errorbar_mean):.4f}) {qs_name}\", alpha=0.5)\n",
    "    plt.title(clf_name)\n",
    "    plt.legend(loc='lower right')\n",
    "    plt.xlabel('cycle')\n",
    "    plt.ylabel('accuracy')\n",
    "    plt.show()"
   ]
  }
 ],
 "metadata": {
  "kernelspec": {
   "display_name": "Python 3 (ipykernel)",
   "language": "python",
   "name": "python3"
  },
  "language_info": {
   "codemirror_mode": {
    "name": "ipython",
    "version": 3
   },
   "file_extension": ".py",
   "mimetype": "text/x-python",
   "name": "python",
   "nbconvert_exporter": "python",
   "pygments_lexer": "ipython3",
   "version": "3.10.13"
  }
 },
 "nbformat": 4,
 "nbformat_minor": 5
}
