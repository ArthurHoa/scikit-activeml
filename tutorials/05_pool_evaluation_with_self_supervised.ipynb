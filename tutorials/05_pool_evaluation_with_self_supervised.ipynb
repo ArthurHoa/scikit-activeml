{
 "cells": [
  {
   "cell_type": "markdown",
   "id": "33f39229508719ea",
   "metadata": {
    "collapsed": false
   },
   "source": [
    "## Pool-based Active Learning - Evaluation Study"
   ]
  },
  {
   "cell_type": "markdown",
   "id": "fa4583e83ede8da9",
   "metadata": {
    "collapsed": false
   },
   "source": [
    "The main purpose of this tutorial is to show how a realistic comparision study can be realized using 'scikit-activeml'. In this tutorial, we use a self-supervised learning model DINOv2 from [1] to creat a (to be continund)"
   ]
  },
  {
   "cell_type": "code",
   "execution_count": 1,
   "id": "7b260866-c6ad-4f9e-84b1-ca621c04caea",
   "metadata": {},
   "outputs": [],
   "source": [
    "#!pip install -U matplotlib\n",
    "#!pip install -U scikit-learn\n",
    "#!pip install iteration_utilities"
   ]
  },
  {
   "cell_type": "code",
   "execution_count": 2,
   "id": "9c7783b6-92f9-4402-a38d-69ee99b7a722",
   "metadata": {},
   "outputs": [
    {
     "name": "stdout",
     "output_type": "stream",
     "text": [
      "['/mnt/stud/home/jcheng/scikit-activeml/tutorials', '/mnt/stud/home/jcheng/miniconda3/envs/scikit-activeml/lib/python310.zip', '/mnt/stud/home/jcheng/miniconda3/envs/scikit-activeml/lib/python3.10', '/mnt/stud/home/jcheng/miniconda3/envs/scikit-activeml/lib/python3.10/lib-dynload', '', '/mnt/stud/home/jcheng/miniconda3/envs/scikit-activeml/lib/python3.10/site-packages', '/mnt/stud/home/jcheng/scikit-activeml/']\n"
     ]
    }
   ],
   "source": [
    "import sys\n",
    "sys.path.append(\"/mnt/stud/home/jcheng/scikit-activeml/\")\n",
    "print(sys.path)"
   ]
  },
  {
   "cell_type": "code",
   "execution_count": 3,
   "id": "3a4b6dbb9143a5eb",
   "metadata": {
    "ExecuteTime": {
     "end_time": "2024-01-17T13:19:05.201220Z",
     "start_time": "2024-01-17T13:19:03.552392Z"
    },
    "collapsed": false
   },
   "outputs": [],
   "source": [
    "import numpy as np\n",
    "import matplotlib as mlp\n",
    "import matplotlib.pyplot as plt\n",
    "\n",
    "from sklearn.linear_model import LogisticRegression\n",
    "\n",
    "from skactiveml.classifier import SklearnClassifier\n",
    "from skactiveml.pool import UncertaintySampling, RandomSampling, DiscriminativeAL, CoreSet, TypiClust, Badge\n",
    "from skactiveml.utils import call_func, MISSING_LABEL\n",
    "\n",
    "import warnings\n",
    "mlp.rcParams[\"figure.facecolor\"] = \"white\"\n",
    "warnings.filterwarnings(\"ignore\")"
   ]
  },
  {
   "cell_type": "markdown",
   "id": "3ac32ea901e08c01",
   "metadata": {
    "collapsed": false
   },
   "source": [
    "## Data Set Generation"
   ]
  },
  {
   "cell_type": "markdown",
   "id": "7a4e3bf805669b1c",
   "metadata": {
    "collapsed": false
   },
   "source": [
    "Introduction about DINOv2 to get embedding dataset. (To be continuend)"
   ]
  },
  {
   "cell_type": "code",
   "execution_count": 4,
   "id": "1aa2229b6d187a",
   "metadata": {
    "collapsed": false
   },
   "outputs": [
    {
     "name": "stdout",
     "output_type": "stream",
     "text": [
      "Requirement already satisfied: torch in /mnt/stud/home/jcheng/miniconda3/envs/scikit-activeml/lib/python3.10/site-packages (2.1.2+cu118)\n",
      "Requirement already satisfied: torchvision in /mnt/stud/home/jcheng/miniconda3/envs/scikit-activeml/lib/python3.10/site-packages (0.16.2+cu118)\n",
      "Requirement already satisfied: torchaudio in /mnt/stud/home/jcheng/miniconda3/envs/scikit-activeml/lib/python3.10/site-packages (2.1.2+cu118)\n",
      "Requirement already satisfied: filelock in /mnt/stud/home/jcheng/miniconda3/envs/scikit-activeml/lib/python3.10/site-packages (from torch) (3.9.0)\n",
      "Requirement already satisfied: typing-extensions in /mnt/stud/home/jcheng/miniconda3/envs/scikit-activeml/lib/python3.10/site-packages (from torch) (4.9.0)\n",
      "Requirement already satisfied: sympy in /mnt/stud/home/jcheng/miniconda3/envs/scikit-activeml/lib/python3.10/site-packages (from torch) (1.12)\n",
      "Requirement already satisfied: networkx in /mnt/stud/home/jcheng/miniconda3/envs/scikit-activeml/lib/python3.10/site-packages (from torch) (3.0)\n",
      "Requirement already satisfied: jinja2 in /mnt/stud/home/jcheng/miniconda3/envs/scikit-activeml/lib/python3.10/site-packages (from torch) (3.1.2)\n",
      "Requirement already satisfied: fsspec in /mnt/stud/home/jcheng/miniconda3/envs/scikit-activeml/lib/python3.10/site-packages (from torch) (2023.4.0)\n",
      "Requirement already satisfied: triton==2.1.0 in /mnt/stud/home/jcheng/miniconda3/envs/scikit-activeml/lib/python3.10/site-packages (from torch) (2.1.0)\n",
      "Requirement already satisfied: numpy in /mnt/stud/home/jcheng/miniconda3/envs/scikit-activeml/lib/python3.10/site-packages (from torchvision) (1.24.1)\n",
      "Requirement already satisfied: requests in /mnt/stud/home/jcheng/miniconda3/envs/scikit-activeml/lib/python3.10/site-packages (from torchvision) (2.31.0)\n",
      "Requirement already satisfied: pillow!=8.3.*,>=5.3.0 in /mnt/stud/home/jcheng/miniconda3/envs/scikit-activeml/lib/python3.10/site-packages (from torchvision) (9.3.0)\n",
      "Requirement already satisfied: MarkupSafe>=2.0 in /mnt/stud/home/jcheng/miniconda3/envs/scikit-activeml/lib/python3.10/site-packages (from jinja2->torch) (2.1.3)\n",
      "Requirement already satisfied: charset-normalizer<4,>=2 in /mnt/stud/home/jcheng/miniconda3/envs/scikit-activeml/lib/python3.10/site-packages (from requests->torchvision) (3.3.2)\n",
      "Requirement already satisfied: idna<4,>=2.5 in /mnt/stud/home/jcheng/miniconda3/envs/scikit-activeml/lib/python3.10/site-packages (from requests->torchvision) (3.6)\n",
      "Requirement already satisfied: urllib3<3,>=1.21.1 in /mnt/stud/home/jcheng/miniconda3/envs/scikit-activeml/lib/python3.10/site-packages (from requests->torchvision) (2.1.0)\n",
      "Requirement already satisfied: certifi>=2017.4.17 in /mnt/stud/home/jcheng/miniconda3/envs/scikit-activeml/lib/python3.10/site-packages (from requests->torchvision) (2023.11.17)\n",
      "Requirement already satisfied: mpmath>=0.19 in /mnt/stud/home/jcheng/miniconda3/envs/scikit-activeml/lib/python3.10/site-packages (from sympy->torch) (1.3.0)\n",
      "Requirement already satisfied: tqdm in /mnt/stud/home/jcheng/miniconda3/envs/scikit-activeml/lib/python3.10/site-packages (4.66.1)\n"
     ]
    }
   ],
   "source": [
    "#!pip3 install torch torchvision torchaudio\n",
    "#!pip install tqdm"
   ]
  },
  {
   "cell_type": "code",
   "execution_count": 5,
   "id": "e081644f354e3327",
   "metadata": {
    "ExecuteTime": {
     "end_time": "2024-01-17T13:25:25.704222Z",
     "start_time": "2024-01-17T13:25:25.699065Z"
    },
    "collapsed": false
   },
   "outputs": [],
   "source": [
    "import torch\n",
    "import torchvision\n",
    "import torchvision.datasets as datasets\n",
    "import torchvision.transforms as transforms\n",
    "from tqdm import tqdm"
   ]
  },
  {
   "cell_type": "code",
   "execution_count": 6,
   "id": "3b27a5c395f5897e",
   "metadata": {
    "ExecuteTime": {
     "end_time": "2024-01-17T13:23:20.397158Z",
     "start_time": "2024-01-17T13:23:20.392522Z"
    },
    "collapsed": false
   },
   "outputs": [],
   "source": [
    "transforms = transforms.Compose(\n",
    "        [transforms.Resize(256),\n",
    "         transforms.CenterCrop(224),\n",
    "         transforms.ToTensor(),\n",
    "         transforms.Normalize((0.485, 0.456, 0.406), (0.229, 0.224, 0.225))]\n",
    "    )\n",
    "\n",
    "batch_size = 4"
   ]
  },
  {
   "cell_type": "markdown",
   "id": "7668a073b61085ea",
   "metadata": {
    "collapsed": false
   },
   "source": [
    "install the corresponding data_set (CIFAR10)"
   ]
  },
  {
   "cell_type": "code",
   "execution_count": 7,
   "id": "96dce5d3226afe25",
   "metadata": {
    "ExecuteTime": {
     "end_time": "2024-01-17T13:36:03.453935Z",
     "start_time": "2024-01-17T13:35:21.458820Z"
    },
    "collapsed": false
   },
   "outputs": [
    {
     "name": "stdout",
     "output_type": "stream",
     "text": [
      "Files already downloaded and verified\n",
      "Files already downloaded and verified\n"
     ]
    }
   ],
   "source": [
    "cifar10_trainset = datasets.CIFAR10(root=\"./data\", train=True, download=True,transform=transforms)\n",
    "cifar10_trainloader = torch.utils.data.DataLoader(cifar10_trainset, batch_size=batch_size, shuffle=True, num_workers=2)\n",
    "\n",
    "cifar10_testset = datasets.CIFAR10(root=\"./data\", train=False, download=True, transform=transforms)\n",
    "cifar10_testloader = torch.utils.data.DataLoader(cifar10_testset, batch_size=batch_size, shuffle=False, num_workers=2)\n",
    "\n",
    "cifar10_classes = ['plane', 'car', 'bird', 'cat', \n",
    "                   'deer', 'dog', 'frog', 'horse', 'ship', 'truck']"
   ]
  },
  {
   "cell_type": "markdown",
   "id": "24fb81762ce97731",
   "metadata": {
    "collapsed": false
   },
   "source": [
    "Compute the Embedding for Images with DINOv2"
   ]
  },
  {
   "cell_type": "code",
   "execution_count": 10,
   "id": "387db871-7e26-46d0-9722-45c71ed40014",
   "metadata": {},
   "outputs": [
    {
     "name": "stderr",
     "output_type": "stream",
     "text": [
      "Using cache found in /mnt/stud/home/jcheng/.cache/torch/hub/facebookresearch_dinov2_main\n"
     ]
    }
   ],
   "source": [
    "dinov2_vits14 = torch.hub.load(\"facebookresearch/dinov2\", \"dinov2_vits14\")"
   ]
  },
  {
   "cell_type": "code",
   "execution_count": 11,
   "id": "aae679eb72b5f8",
   "metadata": {
    "ExecuteTime": {
     "end_time": "2024-01-17T13:30:40.012892Z",
     "start_time": "2024-01-17T13:30:39.531953Z"
    },
    "collapsed": false
   },
   "outputs": [],
   "source": [
    "cifar10_train_embedding_list = []\n",
    "cifar10_train_label_list = []\n",
    "cifar10_test_embedding_list = []\n",
    "cifar10_test_label_list = []"
   ]
  },
  {
   "cell_type": "code",
   "execution_count": 12,
   "id": "f08f07daf4187c8d",
   "metadata": {
    "collapsed": false
   },
   "outputs": [
    {
     "name": "stderr",
     "output_type": "stream",
     "text": [
      " 63%|██████▎   | 7913/12500 [18:58<10:02,  7.62it/s]  IOPub message rate exceeded.\n",
      "The Jupyter server will temporarily stop sending output\n",
      "to the client in order to avoid crashing it.\n",
      "To change this limit, set the config variable\n",
      "`--ServerApp.iopub_msg_rate_limit`.\n",
      "\n",
      "Current values:\n",
      "ServerApp.iopub_msg_rate_limit=1000.0 (msgs/sec)\n",
      "ServerApp.rate_limit_window=3.0 (secs)\n",
      "\n",
      "100%|██████████| 12500/12500 [30:11<00:00,  6.90it/s]\n",
      "100%|██████████| 2500/2500 [05:52<00:00,  7.10it/s]\n"
     ]
    }
   ],
   "source": [
    "with torch.no_grad():\n",
    "    for i, data in tqdm(enumerate(cifar10_trainloader), total=len(cifar10_trainloader)):\n",
    "        image, label = data\n",
    "\n",
    "        embeddings = dinov2_vits14(image)\n",
    "        cifar10_train_embedding_list.append(embeddings)\n",
    "        cifar10_train_label_list.append(label)\n",
    "    \n",
    "    for i, data in tqdm(enumerate(cifar10_testloader), total=len(cifar10_testloader)):\n",
    "        image, label = data\n",
    "\n",
    "        embeddings = dinov2_vits14(image)\n",
    "        cifar10_test_embedding_list.append(embeddings)\n",
    "        cifar10_test_label_list.append(label)\n",
    "    \n",
    "    cifar10_X_Train = torch.cat(cifar10_train_embedding_list, dim=0).numpy()\n",
    "    cifar10_y_Train = torch.cat(cifar10_train_label_list, dim=0).numpy()\n",
    "    cifar10_X_Test = torch.cat(cifar10_test_embedding_list, dim=0).numpy()\n",
    "    cifar10_y_Test = torch.cat(cifar10_test_label_list, dim=0).numpy()\n",
    "    "
   ]
  },
  {
   "cell_type": "markdown",
   "id": "17b51dc5d70a96c7",
   "metadata": {
    "collapsed": false
   },
   "source": [
    "Save the embedding feature in seperat file, creat a new folder with name 'embedding_data'"
   ]
  },
  {
   "cell_type": "code",
   "execution_count": 15,
   "id": "b3758806d7cb708d",
   "metadata": {
    "collapsed": false
   },
   "outputs": [],
   "source": [
    "np.save('./embedding_data/cifar10_dinov2_X_train.npy', cifar10_X_Train)\n",
    "np.save('./embedding_data/cifar10_dinov2_y_train.npy', cifar10_y_Train)\n",
    "np.save('./embedding_data/cifar10_dinov2_X_test.npy', cifar10_X_Test)\n",
    "np.save('./embedding_data/cifar10_dinov2_y_test.npy', cifar10_y_Test)"
   ]
  },
  {
   "cell_type": "markdown",
   "id": "dc5515a3-9b8f-456b-9296-4ca68cda30b4",
   "metadata": {},
   "source": [
    "If you already complete these step before, please load your data here"
   ]
  },
  {
   "cell_type": "code",
   "execution_count": null,
   "id": "a29bcd52-4750-4098-8b4a-395e3487bc2a",
   "metadata": {},
   "outputs": [],
   "source": [
    "cifar10_X_train = np.load('./embedding_data/cifar10_dinov2_X_train.npy')\n",
    "cifar10_y_train = np.load('./embedding_data/ciar10_dinov2_y_train.npy')\n",
    "cifar10_X_Test = np.load('./embedding_data/ciar10_dinov2_X_test.npy')\n",
    "cifar10_y_Test = np.load('./embedding_data/ciar10_dinov2_y_test.npy')"
   ]
  },
  {
   "cell_type": "markdown",
   "source": [
    "## Random Seed Management"
   ],
   "metadata": {
    "collapsed": false
   },
   "id": "cf4565232ae31432"
  },
  {
   "cell_type": "code",
   "execution_count": null,
   "outputs": [],
   "source": [
    "master_random_state = np.random.RandomState(0)\n",
    "\n",
    "def gen_seed(random_state:np.random.RandomState):\n",
    "    return random_state.randint(0, 2**31)\n",
    "\n",
    "def gen_random_state(random_state:np.random.RandomState):\n",
    "    return np.random.RandomState(gen_seed(random_state))"
   ],
   "metadata": {
    "collapsed": false
   },
   "id": "11e6ce648a9ab110"
  },
  {
   "cell_type": "markdown",
   "source": [
    "## Classification Models and Query Strategies"
   ],
   "metadata": {
    "collapsed": false
   },
   "id": "24cc0c5019b852b5"
  },
  {
   "cell_type": "code",
   "execution_count": 11,
   "outputs": [],
   "source": [
    "classifier_factory_functions = {\n",
    "    'LogisticRegression': lambda classes, random_state: SklearnClassifier(\n",
    "        LogisticRegression(),\n",
    "        classes=classes,\n",
    "        random_state=gen_seed(random_state)\n",
    "    )\n",
    "}"
   ],
   "metadata": {
    "collapsed": false,
    "ExecuteTime": {
     "end_time": "2024-01-17T16:22:54.457149Z",
     "start_time": "2024-01-17T16:22:54.453744Z"
    }
   },
   "id": "47726a1cbac97d40"
  },
  {
   "cell_type": "code",
   "execution_count": 12,
   "outputs": [],
   "source": [
    "query_strategy_factory_functions = {\n",
    "    'RandomSampling': lambda random_state: RandomSampling(random_state=gen_seed(random_state)),\n",
    "    'UncertaintySampling': lambda random_state: UncertaintySampling(random_state=gen_seed(random_state)),\n",
    "    'DiscriminativeAL': lambda random_state: DiscriminativeAL(random_state=gen_seed(random_state)),\n",
    "    'CoreSet': lambda random_state: CoreSet(random_state=gen_seed(random_state)),\n",
    "    'TypiClust': lambda random_state: TypiClust(random_state=gen_seed(random_state)),\n",
    "    'Badge': lambda random_state: Badge(random_state=gen_seed(random_state))\n",
    "}"
   ],
   "metadata": {
    "collapsed": false,
    "ExecuteTime": {
     "end_time": "2024-01-17T16:23:51.265616Z",
     "start_time": "2024-01-17T16:23:51.249552Z"
    }
   },
   "id": "d356c3752b0a58a1"
  },
  {
   "cell_type": "code",
   "execution_count": 13,
   "outputs": [],
   "source": [
    "def create_classifier(name, classes, random_state):\n",
    "    return classifier_factory_functions[name](classes, random_state)\n",
    "\n",
    "def create_query_strategy(name, random_state):\n",
    "    return query_strategy_factory_functions[name](random_state)"
   ],
   "metadata": {
    "collapsed": false,
    "ExecuteTime": {
     "end_time": "2024-01-17T16:24:13.152256Z",
     "start_time": "2024-01-17T16:24:13.142955Z"
    }
   },
   "id": "a53f0432f19e5d21"
  },
  {
   "cell_type": "markdown",
   "source": [
    "## Experiment Parameters"
   ],
   "metadata": {
    "collapsed": false
   },
   "id": "9023c37048ec8f54"
  },
  {
   "cell_type": "code",
   "execution_count": null,
   "outputs": [],
   "source": [
    "n_reps = 1000"
   ],
   "metadata": {
    "collapsed": false
   },
   "id": "e103670190e73a3f"
  }
 ],
 "metadata": {
  "kernelspec": {
   "display_name": "Python 3 (ipykernel)",
   "language": "python",
   "name": "python3"
  },
  "language_info": {
   "codemirror_mode": {
    "name": "ipython",
    "version": 3
   },
   "file_extension": ".py",
   "mimetype": "text/x-python",
   "name": "python",
   "nbconvert_exporter": "python",
   "pygments_lexer": "ipython3",
   "version": "3.10.13"
  }
 },
 "nbformat": 4,
 "nbformat_minor": 5
}
