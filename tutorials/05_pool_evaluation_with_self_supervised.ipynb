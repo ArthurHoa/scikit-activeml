{
 "cells": [
  {
   "cell_type": "markdown",
   "id": "33f39229508719ea",
   "metadata": {
    "collapsed": false,
    "jupyter": {
     "outputs_hidden": false
    }
   },
   "source": [
    "## **Tutorial Overview: Comparing Active Learning Strategies with scikit-activeml**"
   ]
  },
  {
   "cell_type": "markdown",
   "id": "fa4583e83ede8da9",
   "metadata": {
    "collapsed": false,
    "jupyter": {
     "outputs_hidden": false
    }
   },
   "source": [
    "This tutorial aims to demonstrate a practical comparison study using the 'scikit-activeml' library. The workflow involves utilizing a self-supervised learning model, specifically DINOv2 from [1], to generate embeddings for the CIFAR-10, CIFAR-100, and Flowers-102 datasets. Subsequently, various active learning strategies will be employed to intelligently select samples for labeling.\n",
    "\n",
    "**Key Steps:**\n",
    "1. **Self-Supervised Learning Model:** Utilize the DINOv2 model to create embedding datasets for CIFAR-10, CIFAR-100, and Flowers-102 datasets.\n",
    "\n",
    "2. **Active Learning Strategies:** Employ different active learning strategies provided by the scikit-activeml library, including:\n",
    "    - Random Sampling\n",
    "    - Uncertainty Sampling\n",
    "    - Discriminative Active Learning (DiscriminativeAL)\n",
    "    - CoreSet\n",
    "    - TypiClust\n",
    "    - Badge\n",
    "\n",
    "3. **Labeling Selection:** Use each active learning strategy to select specific samples for labeling, exploring diverse approaches to guide the learning process.\n",
    "\n",
    "4. **Logging Results with mlflow:** Record and track the results obtained from each active learning strategy using mlflow [2], a platform for managing the complete machine learning lifecycle.\n",
    "\n",
    "**References:**\n",
    "\n",
    "[1] M. Oquab et al., ‘DINOv2: Learning Robust Visual Features without Supervision’. arXiv, Apr. 14, 2023. Accessed: Jan. 13, 2024. [Online]. Available: http://arxiv.org/abs/2304.07193\n",
    "\n",
    "[2] ‘MLflow - A platform for the machine learning lifecycle’, MLflow. Accessed: Jan. 18, 2024. [Online]. Available: https://mlflow.org/\n",
    "\n"
   ]
  },
  {
   "cell_type": "markdown",
   "id": "de450052-1670-454b-bdac-9dfa97e85f31",
   "metadata": {},
   "source": [
    "**Step 1: Prepair your Data with DINOv2**"
   ]
  },
  {
   "cell_type": "code",
   "execution_count": 1,
   "id": "7b260866-c6ad-4f9e-84b1-ca621c04caea",
   "metadata": {},
   "outputs": [],
   "source": [
    "#!pip install -U matplotlib\n",
    "#!pip install -U scikit-learn\n",
    "#!pip install iteration_utilities"
   ]
  },
  {
   "cell_type": "code",
   "execution_count": 2,
   "id": "9c7783b6-92f9-4402-a38d-69ee99b7a722",
   "metadata": {},
   "outputs": [],
   "source": [
    "import sys\n",
    "sys.path.append(\"/mnt/stud/home/jcheng/scikit-activeml/\")"
   ]
  },
  {
   "cell_type": "code",
   "execution_count": 3,
   "id": "3a4b6dbb9143a5eb",
   "metadata": {
    "ExecuteTime": {
     "end_time": "2024-01-17T19:28:22.413502Z",
     "start_time": "2024-01-17T19:28:18.091576Z"
    },
    "collapsed": false,
    "jupyter": {
     "outputs_hidden": false
    }
   },
   "outputs": [],
   "source": [
    "import numpy as np\n",
    "import matplotlib as mlp\n",
    "import matplotlib.pyplot as plt\n",
    "\n",
    "from sklearn.linear_model import LogisticRegression\n",
    "\n",
    "from skactiveml.classifier import SklearnClassifier\n",
    "from skactiveml.pool import UncertaintySampling, RandomSampling, DiscriminativeAL, CoreSet, TypiClust, Badge\n",
    "from skactiveml.utils import call_func, MISSING_LABEL\n",
    "\n",
    "import warnings\n",
    "mlp.rcParams[\"figure.facecolor\"] = \"white\"\n",
    "warnings.filterwarnings(\"ignore\")"
   ]
  },
  {
   "cell_type": "markdown",
   "id": "3ac32ea901e08c01",
   "metadata": {
    "collapsed": false,
    "jupyter": {
     "outputs_hidden": false
    }
   },
   "source": [
    "## Data Set Generation"
   ]
  },
  {
   "cell_type": "markdown",
   "id": "7a4e3bf805669b1c",
   "metadata": {
    "collapsed": false,
    "jupyter": {
     "outputs_hidden": false
    }
   },
   "source": [
    "Introduction about DINOv2 to get embedding dataset. (To be continuend)"
   ]
  },
  {
   "cell_type": "code",
   "execution_count": 4,
   "id": "1aa2229b6d187a",
   "metadata": {
    "collapsed": false,
    "jupyter": {
     "outputs_hidden": false
    }
   },
   "outputs": [],
   "source": [
    "#!pip3 install torch torchvision torchaudio\n",
    "#!pip install tqdm"
   ]
  },
  {
   "cell_type": "code",
   "execution_count": 5,
   "id": "e081644f354e3327",
   "metadata": {
    "ExecuteTime": {
     "end_time": "2024-01-17T13:25:25.704222Z",
     "start_time": "2024-01-17T13:25:25.699065Z"
    },
    "collapsed": false,
    "jupyter": {
     "outputs_hidden": false
    }
   },
   "outputs": [],
   "source": [
    "import torch\n",
    "import torchvision.datasets as datasets\n",
    "import torchvision.transforms as transforms\n",
    "from tqdm import tqdm"
   ]
  },
  {
   "cell_type": "code",
   "execution_count": 6,
   "id": "3b27a5c395f5897e",
   "metadata": {
    "ExecuteTime": {
     "end_time": "2024-01-17T13:23:20.397158Z",
     "start_time": "2024-01-17T13:23:20.392522Z"
    },
    "collapsed": false,
    "jupyter": {
     "outputs_hidden": false
    }
   },
   "outputs": [],
   "source": [
    "transforms = transforms.Compose(\n",
    "        [transforms.Resize(256),\n",
    "         transforms.CenterCrop(224),\n",
    "         transforms.ToTensor(),\n",
    "         transforms.Normalize((0.485, 0.456, 0.406), (0.229, 0.224, 0.225))]\n",
    "    )\n",
    "\n",
    "batch_size = 4"
   ]
  },
  {
   "cell_type": "markdown",
   "id": "0493d78a-c3d5-42b3-b5b6-b83191d4bbe1",
   "metadata": {},
   "source": [
    "load the pretrained model"
   ]
  },
  {
   "cell_type": "code",
   "execution_count": 13,
   "id": "387db871-7e26-46d0-9722-45c71ed40014",
   "metadata": {},
   "outputs": [
    {
     "name": "stderr",
     "output_type": "stream",
     "text": [
      "Using cache found in /mnt/stud/home/jcheng/.cache/torch/hub/facebookresearch_dinov2_main\n"
     ]
    }
   ],
   "source": [
    "dinov2_vits14 = torch.hub.load(\"facebookresearch/dinov2\", \"dinov2_vits14\")"
   ]
  },
  {
   "cell_type": "markdown",
   "id": "7668a073b61085ea",
   "metadata": {
    "collapsed": false,
    "jupyter": {
     "outputs_hidden": false
    }
   },
   "source": [
    "install the corresponding data_set (CIFAR10)"
   ]
  },
  {
   "cell_type": "code",
   "execution_count": 8,
   "id": "7c4932e3-d171-4fa0-b452-1dc72f594bdb",
   "metadata": {},
   "outputs": [],
   "source": [
    "dataset_classes = {\n",
    "    \"CIFAR10\": 10,\n",
    "    \"CIFAR100\": 100,\n",
    "    \"Flowers102\": 102\n",
    "}"
   ]
  },
  {
   "cell_type": "code",
   "execution_count": 15,
   "id": "8c0165be-d3ce-4eb2-9309-45ba6c08c8d3",
   "metadata": {},
   "outputs": [],
   "source": [
    "def load_and_process_dataset(dataset_name, root_dir, num_classes, is_train):\n",
    "    # Load the dataset\n",
    "    dataset = datasets.__dict__[dataset_name](root=root_dir, train=is_train, download=True, transform=transforms)\n",
    "\n",
    "    # Create a DataLoader\n",
    "    dataloader = torch.utils.data.DataLoader(dataset, batch_size=batch_size, shuffle=is_train, num_workers=2)\n",
    "\n",
    "    embedding_list = []\n",
    "    label_list = []\n",
    "\n",
    "    with torch.no_grad():\n",
    "        for i, data in tqdm(enumerate(dataloader), total=len(dataloader), desc=f\"{dataset_name.capitalize()}\"):\n",
    "            image, label = data\n",
    "            embeddings = dinov2_vits14(image)\n",
    "            embedding_list.append(embeddings)\n",
    "            label_list.append(label)\n",
    "\n",
    "        # Concatenate embeddings and labels\n",
    "        X = torch.cat(embedding_list, dim=0).numpy()\n",
    "        y_true = torch.cat(label_list, dim=0).numpy()\n",
    "\n",
    "    return X, y_true"
   ]
  },
  {
   "cell_type": "code",
   "execution_count": 16,
   "id": "a4cd1913-dc68-4d5e-896a-951ea639b1bf",
   "metadata": {},
   "outputs": [
    {
     "name": "stdout",
     "output_type": "stream",
     "text": [
      "Files already downloaded and verified\n"
     ]
    },
    {
     "name": "stderr",
     "output_type": "stream",
     "text": [
      "Cifar10: 100%|██████████| 12500/12500 [53:09<00:00,  3.92it/s]\n"
     ]
    },
    {
     "name": "stdout",
     "output_type": "stream",
     "text": [
      "Files already downloaded and verified\n"
     ]
    },
    {
     "name": "stderr",
     "output_type": "stream",
     "text": [
      "Cifar10: 100%|██████████| 2500/2500 [11:34<00:00,  3.60it/s]\n"
     ]
    }
   ],
   "source": [
    "# CIFAR-10\n",
    "cifar10_X_train, cifar10_y_train_true = load_and_process_dataset(\"CIFAR10\", \"./data\", 10, True)\n",
    "cifar10_X_test, cifar10_y_test_true = load_and_process_dataset(\"CIFAR10\", \"./data\", 10, False)"
   ]
  },
  {
   "cell_type": "code",
   "execution_count": 19,
   "id": "92f4f12f-731b-44d8-a8ad-be55c5f2f250",
   "metadata": {},
   "outputs": [],
   "source": [
    "np.save('./embedding_data/cifar10_dinov2_X_train.npy', cifar10_X_train)\n",
    "np.save('./embedding_data/cifar10_dinov2_y_train.npy', cifar10_y_train_true)\n",
    "np.save('./embedding_data/cifar10_dinov2_X_test.npy', cifar10_X_test)\n",
    "np.save('./embedding_data/cifar10_dinov2_y_test.npy', cifar10_y_test_true)"
   ]
  },
  {
   "cell_type": "code",
   "execution_count": null,
   "id": "ea49ccb4-8b5c-45ed-aa42-08f383df3b67",
   "metadata": {},
   "outputs": [
    {
     "name": "stdout",
     "output_type": "stream",
     "text": [
      "Downloading https://www.cs.toronto.edu/~kriz/cifar-100-python.tar.gz to ./data/cifar-100-python.tar.gz\n"
     ]
    },
    {
     "name": "stderr",
     "output_type": "stream",
     "text": [
      "100%|██████████| 169001437/169001437 [06:28<00:00, 435350.83it/s]\n"
     ]
    },
    {
     "name": "stdout",
     "output_type": "stream",
     "text": [
      "Extracting ./data/cifar-100-python.tar.gz to ./data\n"
     ]
    },
    {
     "name": "stderr",
     "output_type": "stream",
     "text": [
      "Cifar100:  15%|█▍        | 1841/12500 [08:14<46:01,  3.86it/s] "
     ]
    }
   ],
   "source": [
    "# CIFAR-100\n",
    "cifar100_X_train, cifar100_y_train_true = load_and_process_dataset(\"CIFAR100\", \"./data\", 100, True)\n",
    "cifar100_X_test, cifar100_y_test_true = load_and_process_dataset(\"CIFAR100\", \"./data\", 100, False)"
   ]
  },
  {
   "cell_type": "code",
   "execution_count": null,
   "id": "379d921f-8f82-49a0-9e9a-36fbabf13f39",
   "metadata": {},
   "outputs": [],
   "source": [
    "np.save('./embedding_data/cifar100_dinov2_X_train.npy', cifar100_X_train)\n",
    "np.save('./embedding_data/cifar100_dinov2_y_train.npy', cifar100_y_train_true)\n",
    "np.save('./embedding_data/cifar100_dinov2_X_test.npy', cifar100_X_test)\n",
    "np.save('./embedding_data/cifar100_dinov2_y_test.npy', cifar100_y_test)"
   ]
  },
  {
   "cell_type": "code",
   "execution_count": null,
   "id": "4abc295a-f41d-42aa-9b02-3a9fffc28b1d",
   "metadata": {},
   "outputs": [],
   "source": [
    "# Flowers-102\n",
    "flowers102_X_train, flowers102_y_train_true = load_and_process_dataset(\"Flowers102\", \"./data/flowers102\", 102, True)\n",
    "flowers102_X_test, flowers102_y_test_true = load_and_process_dataset(\"Flowers102\", \"./data/flowers102\", 102, False)"
   ]
  },
  {
   "cell_type": "code",
   "execution_count": null,
   "id": "088974c2-8020-4ea3-89e5-393866061f3b",
   "metadata": {},
   "outputs": [],
   "source": [
    "np.save('./embedding_data/flowers102_dinov2_X_train.npy', flowers102_X_train)\n",
    "np.save('./embedding_data/flowers102_dinov2_y_train.npy', flowers102_y_train_true)\n",
    "np.save('./embedding_data/flowers102_dinov2_X_test.npy', flowers102_X_test)\n",
    "np.save('./embedding_data/flowers102_dinov2_y_test.npy', flowers102_y_test)"
   ]
  },
  {
   "cell_type": "code",
   "execution_count": null,
   "id": "9750e6a1-706e-4ee6-aa4d-3470dd0f578a",
   "metadata": {},
   "outputs": [],
   "source": [
    "## Load your preprocessing Data"
   ]
  },
  {
   "cell_type": "markdown",
   "id": "dc5515a3-9b8f-456b-9296-4ca68cda30b4",
   "metadata": {},
   "source": [
    "If you already complete these step before, please load your data here"
   ]
  },
  {
   "cell_type": "code",
   "execution_count": 11,
   "id": "a29bcd52-4750-4098-8b4a-395e3487bc2a",
   "metadata": {},
   "outputs": [],
   "source": [
    "cifar10_X_train = np.load('./embedding_data/cifar10_dinov2_X_train.npy')\n",
    "cifar10_y_train_true = np.load('./embedding_data/cifar10_dinov2_y_train.npy')\n",
    "cifar10_X_test = np.load('./embedding_data/cifar10_dinov2_X_test.npy')\n",
    "cifar10_y_test = np.load('./embedding_data/cifar10_dinov2_y_test.npy')"
   ]
  },
  {
   "cell_type": "code",
   "execution_count": null,
   "id": "d4dc274c-f1a0-4f81-8716-5f961ac03e14",
   "metadata": {},
   "outputs": [],
   "source": [
    "cifar100_X_train = np.load('./embedding_data/cifar100_dinov2_X_train.npy')\n",
    "cifar100_y_train_true = np.load('./embedding_data/cifar100_dinov2_y_train.npy')\n",
    "cifar100_X_test = np.load('./embedding_data/cifar100_dinov2_X_test.npy')\n",
    "cifar100_y_test = np.load('./embedding_data/cifar100_dinov2_y_test.npy')"
   ]
  },
  {
   "cell_type": "code",
   "execution_count": null,
   "id": "e29fc457-2fb1-4824-8cd5-b637e44795a8",
   "metadata": {},
   "outputs": [],
   "source": [
    "flowers102_X_train = np.load('./embedding_data/flowers102_dinov2_X_train.npy')\n",
    "flowers102_y_train_true = np.load('./embedding_data/flowers102_dinov2_y_train.npy')\n",
    "flowers102_X_test = np.load('./embedding_data/flowers102_dinov2_X_test.npy')\n",
    "flowers102_y_test = np.load('./embedding_data/flowers102_dinov2_y_test.npy')"
   ]
  },
  {
   "cell_type": "markdown",
   "id": "cf4565232ae31432",
   "metadata": {
    "collapsed": false,
    "jupyter": {
     "outputs_hidden": false
    }
   },
   "source": [
    "## Random Seed Management"
   ]
  },
  {
   "cell_type": "code",
   "execution_count": 12,
   "id": "11e6ce648a9ab110",
   "metadata": {
    "ExecuteTime": {
     "end_time": "2024-01-17T19:28:35.438877Z",
     "start_time": "2024-01-17T19:28:35.420949Z"
    },
    "collapsed": false,
    "jupyter": {
     "outputs_hidden": false
    }
   },
   "outputs": [],
   "source": [
    "master_random_state = np.random.RandomState(0)\n",
    "\n",
    "def gen_seed(random_state:np.random.RandomState):\n",
    "    return random_state.randint(0, 2**31)\n",
    "\n",
    "def gen_random_state(random_state:np.random.RandomState):\n",
    "    return np.random.RandomState(gen_seed(random_state))"
   ]
  },
  {
   "cell_type": "markdown",
   "id": "24cc0c5019b852b5",
   "metadata": {
    "collapsed": false,
    "jupyter": {
     "outputs_hidden": false
    }
   },
   "source": [
    "## Classification Models and Query Strategies"
   ]
  },
  {
   "cell_type": "code",
   "execution_count": 13,
   "id": "47726a1cbac97d40",
   "metadata": {
    "ExecuteTime": {
     "end_time": "2024-01-17T16:22:54.457149Z",
     "start_time": "2024-01-17T16:22:54.453744Z"
    },
    "collapsed": false,
    "jupyter": {
     "outputs_hidden": false
    }
   },
   "outputs": [],
   "source": [
    "classifier_factory_functions = {\n",
    "    'LogisticRegression': lambda classes, random_state: SklearnClassifier(\n",
    "        LogisticRegression(),\n",
    "        classes=classes,\n",
    "        random_state=gen_seed(random_state)\n",
    "    )\n",
    "}"
   ]
  },
  {
   "cell_type": "code",
   "execution_count": 14,
   "id": "d356c3752b0a58a1",
   "metadata": {
    "ExecuteTime": {
     "end_time": "2024-01-17T16:23:51.265616Z",
     "start_time": "2024-01-17T16:23:51.249552Z"
    },
    "collapsed": false,
    "jupyter": {
     "outputs_hidden": false
    }
   },
   "outputs": [],
   "source": [
    "query_strategy_factory_functions = {\n",
    "    'RandomSampling': lambda random_state: RandomSampling(random_state=gen_seed(random_state)),\n",
    "    'UncertaintySampling': lambda random_state: UncertaintySampling(random_state=gen_seed(random_state)),\n",
    "    'DiscriminativeAL': lambda random_state: DiscriminativeAL(random_state=gen_seed(random_state)),\n",
    "    'CoreSet': lambda random_state: CoreSet(random_state=gen_seed(random_state)),\n",
    "    'TypiClust': lambda random_state: TypiClust(random_state=gen_seed(random_state)),\n",
    "    'Badge': lambda random_state: Badge(random_state=gen_seed(random_state))\n",
    "}"
   ]
  },
  {
   "cell_type": "code",
   "execution_count": 15,
   "id": "a53f0432f19e5d21",
   "metadata": {
    "ExecuteTime": {
     "end_time": "2024-01-17T16:24:13.152256Z",
     "start_time": "2024-01-17T16:24:13.142955Z"
    },
    "collapsed": false,
    "jupyter": {
     "outputs_hidden": false
    }
   },
   "outputs": [],
   "source": [
    "def create_classifier(name, classes, random_state):\n",
    "    return classifier_factory_functions[name](classes, random_state)\n",
    "\n",
    "def create_query_strategy(name, random_state):\n",
    "    return query_strategy_factory_functions[name](random_state)"
   ]
  },
  {
   "cell_type": "markdown",
   "id": "9023c37048ec8f54",
   "metadata": {
    "collapsed": false,
    "jupyter": {
     "outputs_hidden": false
    }
   },
   "source": [
    "## Experiment Parameters"
   ]
  },
  {
   "cell_type": "code",
   "execution_count": 16,
   "id": "e103670190e73a3f",
   "metadata": {
    "collapsed": false,
    "jupyter": {
     "outputs_hidden": false
    }
   },
   "outputs": [],
   "source": [
    "n_reps = 1\n",
    "n_training_dataset = len(cifar10_X_Train)\n",
    "#n_cycles = int(0.5 * n_training_dataset)\n",
    "n_cycles = 500\n",
    "classifier_names = classifier_factory_functions.keys()\n",
    "query_strategy_names = query_strategy_factory_functions.keys()"
   ]
  },
  {
   "cell_type": "markdown",
   "id": "66b8fff1b12211ed",
   "metadata": {
    "collapsed": false,
    "jupyter": {
     "outputs_hidden": false
    }
   },
   "source": [
    "## Experiment Loop"
   ]
  },
  {
   "cell_type": "code",
   "execution_count": null,
   "id": "982ac9424cda2f15",
   "metadata": {
    "collapsed": false,
    "jupyter": {
     "outputs_hidden": false
    }
   },
   "outputs": [
    {
     "name": "stderr",
     "output_type": "stream",
     "text": [
      "Repeat 1 in LogisticRegression with RandomSampling: 100%|██████████| 500/500 [01:46<00:00,  4.71it/s]\n",
      "Repeat 1 in LogisticRegression with UncertaintySampling:  48%|████▊     | 239/500 [01:46<02:12,  1.98it/s]"
     ]
    }
   ],
   "source": [
    "results = {}\n",
    "\n",
    "for clf_name in classifier_names:\n",
    "    for qs_name in query_strategy_names:\n",
    "        accuracies = np.full((n_reps, n_cycles), np.nan)\n",
    "        for i_rep in range(n_reps):\n",
    "            cifar10_y_Train = np.full(shape=cifar10_y_Train_true.shape, fill_value=MISSING_LABEL)\n",
    "            \n",
    "            clf = create_classifier(clf_name, classes=np.arange(len(cifar10_classes)), random_state=gen_random_state(master_random_state))\n",
    "            qs = create_query_strategy(qs_name, random_state=gen_random_state(master_random_state))\n",
    "            clf.fit(cifar10_X_Train, cifar10_y_Train)\n",
    "            \n",
    "            for c in tqdm(range(n_cycles), desc=f'Repeat {i_rep + 1} in {clf_name} with {qs_name}'):\n",
    "                query_idx = call_func(qs.query, X=cifar10_X_Train, y=cifar10_y_Train, batch_size=1, clf=clf, discriminator=clf)\n",
    "                cifar10_y_train[query_idx] = cifar10_y_train_true[query_idx]\n",
    "                clf.fit(cifar10_X_train, cifar10_y_train)\n",
    "                score = clf.score(cifar10_X_test, cifar10_y_test)\n",
    "                accuracies[i_rep, c] = score\n",
    "        \n",
    "        results[(clf_name, qs_name)] = accuracies"
   ]
  },
  {
   "cell_type": "markdown",
   "id": "998e52cb1a2107b",
   "metadata": {
    "collapsed": false,
    "jupyter": {
     "outputs_hidden": false
    }
   },
   "source": [
    "## Resulting Plotting"
   ]
  },
  {
   "cell_type": "code",
   "execution_count": 17,
   "id": "725ac30a-593a-4578-9c99-7f5d4d669125",
   "metadata": {},
   "outputs": [],
   "source": [
    "#!pip install mlflow"
   ]
  },
  {
   "cell_type": "code",
   "execution_count": 18,
   "id": "0377ccfc-5be6-42e3-a603-08b1da6c6001",
   "metadata": {},
   "outputs": [],
   "source": [
    "import mlflow\n",
    "\n",
    "mlflow.set_tracking_uri(uri=\"file:///mnt/stud/home/jcheng/scikit-activeml/tutorials/tracking\")\n",
    "mlflow.set_experiment(\"Pool Evaluation with DINOv2\")"
   ]
  },
  {
   "cell_type": "code",
   "execution_count": null,
   "id": "7ed6ebe52431f489",
   "metadata": {
    "collapsed": false,
    "jupyter": {
     "outputs_hidden": false
    }
   },
   "outputs": [],
   "source": [
    "with mlflow.start_run():\n",
    "    for clf_name in classifier_names:\n",
    "        for qs_name in query_strategy_names:\n",
    "            key = (clf_name, qs_name)\n",
    "            result = results[key]\n",
    "            reshaped_result = result.reshape((-1, n_cycles))\n",
    "            errorbar_mean = np.mean(reshaped_result, axis=0)\n",
    "            mlflow.log_metric = (f'errorbar_mean for {qs_name} with {clf_name}', errorbar_mean)\n",
    "            errorbar_std = np.std(reshaped_result, axis=0)\n",
    "            mlflow.log_metric = (f'errorbar_std for {qs_name} with {clf_name}', errorbar_std)\n",
    "            plt.errorbar(np.arange(n_cycles), errorbar_mean, errorbar_std, label=f\"({np.mean(errorbar_mean):.4f}) {qs_name}\", alpha=0.5)\n",
    "        plt.title(clf_name)\n",
    "        plt.legend(loc='lower right')\n",
    "        plt.xlabel('cycle')\n",
    "        plt.ylabel('accuracy')\n",
    "        plt.show()"
   ]
  }
 ],
 "metadata": {
  "kernelspec": {
   "display_name": "Python 3 (ipykernel)",
   "language": "python",
   "name": "python3"
  },
  "language_info": {
   "codemirror_mode": {
    "name": "ipython",
    "version": 3
   },
   "file_extension": ".py",
   "mimetype": "text/x-python",
   "name": "python",
   "nbconvert_exporter": "python",
   "pygments_lexer": "ipython3",
   "version": "3.10.13"
  }
 },
 "nbformat": 4,
 "nbformat_minor": 5
}
